{
 "cells": [
  {
   "cell_type": "code",
   "execution_count": 1,
   "metadata": {
    "id": "vrUzja6IhxAS"
   },
   "outputs": [],
   "source": [
    "#importing necessary libraries\n",
    "import pandas as pd\n",
    "import numpy as np\n",
    "import seaborn as sns\n",
    "import matplotlib.pyplot as plt\n",
    "import numpy as np\n"
   ]
  },
  {
   "cell_type": "code",
   "execution_count": 2,
   "metadata": {
    "id": "dZTicGrvh8qL"
   },
   "outputs": [],
   "source": [
    "#loading dataset\n",
    "data=pd.read_csv(r\"C:\\Users\\bobby patel\\Desktop\\car_price\\cars_price.csv\",index_col=\"Unnamed: 0\")"
   ]
  },
  {
   "cell_type": "code",
   "execution_count": 3,
   "metadata": {
    "colab": {
     "base_uri": "https://localhost:8080/",
     "height": 204
    },
    "id": "LRld8wVjkbFV",
    "outputId": "7b9b92ba-fc33-401f-c1e5-31bcd89e3e8f"
   },
   "outputs": [
    {
     "data": {
      "text/html": [
       "<div>\n",
       "<style scoped>\n",
       "    .dataframe tbody tr th:only-of-type {\n",
       "        vertical-align: middle;\n",
       "    }\n",
       "\n",
       "    .dataframe tbody tr th {\n",
       "        vertical-align: top;\n",
       "    }\n",
       "\n",
       "    .dataframe thead th {\n",
       "        text-align: right;\n",
       "    }\n",
       "</style>\n",
       "<table border=\"1\" class=\"dataframe\">\n",
       "  <thead>\n",
       "    <tr style=\"text-align: right;\">\n",
       "      <th></th>\n",
       "      <th>make</th>\n",
       "      <th>model</th>\n",
       "      <th>priceUSD</th>\n",
       "      <th>year</th>\n",
       "      <th>condition</th>\n",
       "      <th>mileage(kilometers)</th>\n",
       "      <th>fuel_type</th>\n",
       "      <th>volume(cm3)</th>\n",
       "      <th>color</th>\n",
       "      <th>transmission</th>\n",
       "      <th>drive_unit</th>\n",
       "      <th>segment</th>\n",
       "    </tr>\n",
       "  </thead>\n",
       "  <tbody>\n",
       "    <tr>\n",
       "      <th>0</th>\n",
       "      <td>honda</td>\n",
       "      <td>accord</td>\n",
       "      <td>565</td>\n",
       "      <td>1993</td>\n",
       "      <td>with mileage</td>\n",
       "      <td>960015.0</td>\n",
       "      <td>petrol</td>\n",
       "      <td>2000.0</td>\n",
       "      <td>black</td>\n",
       "      <td>mechanics</td>\n",
       "      <td>front-wheel drive</td>\n",
       "      <td>D</td>\n",
       "    </tr>\n",
       "    <tr>\n",
       "      <th>1</th>\n",
       "      <td>ford</td>\n",
       "      <td>fusion</td>\n",
       "      <td>5550</td>\n",
       "      <td>2008</td>\n",
       "      <td>with mileage</td>\n",
       "      <td>172000.0</td>\n",
       "      <td>diesel</td>\n",
       "      <td>1400.0</td>\n",
       "      <td>silver</td>\n",
       "      <td>mechanics</td>\n",
       "      <td>front-wheel drive</td>\n",
       "      <td>M</td>\n",
       "    </tr>\n",
       "    <tr>\n",
       "      <th>2</th>\n",
       "      <td>nissan</td>\n",
       "      <td>teana</td>\n",
       "      <td>8300</td>\n",
       "      <td>2008</td>\n",
       "      <td>with mileage</td>\n",
       "      <td>223000.0</td>\n",
       "      <td>petrol</td>\n",
       "      <td>2500.0</td>\n",
       "      <td>purple</td>\n",
       "      <td>auto</td>\n",
       "      <td>front-wheel drive</td>\n",
       "      <td>D</td>\n",
       "    </tr>\n",
       "    <tr>\n",
       "      <th>3</th>\n",
       "      <td>volkswagen</td>\n",
       "      <td>fox</td>\n",
       "      <td>3300</td>\n",
       "      <td>2005</td>\n",
       "      <td>with mileage</td>\n",
       "      <td>140000.0</td>\n",
       "      <td>petrol</td>\n",
       "      <td>1200.0</td>\n",
       "      <td>blue</td>\n",
       "      <td>mechanics</td>\n",
       "      <td>front-wheel drive</td>\n",
       "      <td>A</td>\n",
       "    </tr>\n",
       "    <tr>\n",
       "      <th>4</th>\n",
       "      <td>nissan</td>\n",
       "      <td>primera</td>\n",
       "      <td>2450</td>\n",
       "      <td>2002</td>\n",
       "      <td>with damage</td>\n",
       "      <td>413000.0</td>\n",
       "      <td>diesel</td>\n",
       "      <td>2200.0</td>\n",
       "      <td>burgundy</td>\n",
       "      <td>mechanics</td>\n",
       "      <td>front-wheel drive</td>\n",
       "      <td>D</td>\n",
       "    </tr>\n",
       "  </tbody>\n",
       "</table>\n",
       "</div>"
      ],
      "text/plain": [
       "         make    model  priceUSD  year     condition  mileage(kilometers)  \\\n",
       "0       honda   accord       565  1993  with mileage             960015.0   \n",
       "1        ford   fusion      5550  2008  with mileage             172000.0   \n",
       "2      nissan    teana      8300  2008  with mileage             223000.0   \n",
       "3  volkswagen      fox      3300  2005  with mileage             140000.0   \n",
       "4      nissan  primera      2450  2002   with damage             413000.0   \n",
       "\n",
       "  fuel_type  volume(cm3)     color transmission         drive_unit segment  \n",
       "0    petrol       2000.0     black    mechanics  front-wheel drive       D  \n",
       "1    diesel       1400.0    silver    mechanics  front-wheel drive       M  \n",
       "2    petrol       2500.0    purple         auto  front-wheel drive       D  \n",
       "3    petrol       1200.0      blue    mechanics  front-wheel drive       A  \n",
       "4    diesel       2200.0  burgundy    mechanics  front-wheel drive       D  "
      ]
     },
     "execution_count": 3,
     "metadata": {},
     "output_type": "execute_result"
    }
   ],
   "source": [
    "#top 5 data points\n",
    "data.head()"
   ]
  },
  {
   "cell_type": "code",
   "execution_count": 4,
   "metadata": {
    "colab": {
     "base_uri": "https://localhost:8080/"
    },
    "id": "u8wBWUonkcGz",
    "outputId": "fea5e3e2-664f-421c-c3be-db92ac76dc4b"
   },
   "outputs": [
    {
     "name": "stdout",
     "output_type": "stream",
     "text": [
      "<class 'pandas.core.frame.DataFrame'>\n",
      "Int64Index: 40000 entries, 0 to 39999\n",
      "Data columns (total 12 columns):\n",
      " #   Column               Non-Null Count  Dtype  \n",
      "---  ------               --------------  -----  \n",
      " 0   make                 40000 non-null  object \n",
      " 1   model                40000 non-null  object \n",
      " 2   priceUSD             40000 non-null  int64  \n",
      " 3   year                 40000 non-null  int64  \n",
      " 4   condition            40000 non-null  object \n",
      " 5   mileage(kilometers)  40000 non-null  float64\n",
      " 6   fuel_type            40000 non-null  object \n",
      " 7   volume(cm3)          39970 non-null  float64\n",
      " 8   color                40000 non-null  object \n",
      " 9   transmission         40000 non-null  object \n",
      " 10  drive_unit           38655 non-null  object \n",
      " 11  segment              36245 non-null  object \n",
      "dtypes: float64(2), int64(2), object(8)\n",
      "memory usage: 4.0+ MB\n"
     ]
    }
   ],
   "source": [
    "#data information \n",
    "data.info()"
   ]
  },
  {
   "cell_type": "code",
   "execution_count": 5,
   "metadata": {
    "colab": {
     "base_uri": "https://localhost:8080/",
     "height": 297
    },
    "id": "2cViAh_rksTW",
    "outputId": "11c0691e-cbac-4fb2-e69d-6491c324327d"
   },
   "outputs": [
    {
     "data": {
      "text/html": [
       "<div>\n",
       "<style scoped>\n",
       "    .dataframe tbody tr th:only-of-type {\n",
       "        vertical-align: middle;\n",
       "    }\n",
       "\n",
       "    .dataframe tbody tr th {\n",
       "        vertical-align: top;\n",
       "    }\n",
       "\n",
       "    .dataframe thead th {\n",
       "        text-align: right;\n",
       "    }\n",
       "</style>\n",
       "<table border=\"1\" class=\"dataframe\">\n",
       "  <thead>\n",
       "    <tr style=\"text-align: right;\">\n",
       "      <th></th>\n",
       "      <th>priceUSD</th>\n",
       "      <th>year</th>\n",
       "      <th>mileage(kilometers)</th>\n",
       "      <th>volume(cm3)</th>\n",
       "    </tr>\n",
       "  </thead>\n",
       "  <tbody>\n",
       "    <tr>\n",
       "      <th>count</th>\n",
       "      <td>40000.000000</td>\n",
       "      <td>40000.000000</td>\n",
       "      <td>4.000000e+04</td>\n",
       "      <td>39970.000000</td>\n",
       "    </tr>\n",
       "    <tr>\n",
       "      <th>mean</th>\n",
       "      <td>7430.383775</td>\n",
       "      <td>2003.485625</td>\n",
       "      <td>2.434332e+05</td>\n",
       "      <td>2103.201676</td>\n",
       "    </tr>\n",
       "    <tr>\n",
       "      <th>std</th>\n",
       "      <td>8338.242134</td>\n",
       "      <td>8.114896</td>\n",
       "      <td>3.167033e+05</td>\n",
       "      <td>938.724653</td>\n",
       "    </tr>\n",
       "    <tr>\n",
       "      <th>min</th>\n",
       "      <td>95.000000</td>\n",
       "      <td>1938.000000</td>\n",
       "      <td>0.000000e+00</td>\n",
       "      <td>500.000000</td>\n",
       "    </tr>\n",
       "    <tr>\n",
       "      <th>25%</th>\n",
       "      <td>2350.000000</td>\n",
       "      <td>1998.000000</td>\n",
       "      <td>1.370000e+05</td>\n",
       "      <td>1600.000000</td>\n",
       "    </tr>\n",
       "    <tr>\n",
       "      <th>50%</th>\n",
       "      <td>5350.000000</td>\n",
       "      <td>2004.000000</td>\n",
       "      <td>2.280000e+05</td>\n",
       "      <td>1995.000000</td>\n",
       "    </tr>\n",
       "    <tr>\n",
       "      <th>75%</th>\n",
       "      <td>9850.000000</td>\n",
       "      <td>2010.000000</td>\n",
       "      <td>3.087610e+05</td>\n",
       "      <td>2300.000000</td>\n",
       "    </tr>\n",
       "    <tr>\n",
       "      <th>max</th>\n",
       "      <td>195000.000000</td>\n",
       "      <td>2019.000000</td>\n",
       "      <td>9.999999e+06</td>\n",
       "      <td>20000.000000</td>\n",
       "    </tr>\n",
       "  </tbody>\n",
       "</table>\n",
       "</div>"
      ],
      "text/plain": [
       "            priceUSD          year  mileage(kilometers)   volume(cm3)\n",
       "count   40000.000000  40000.000000         4.000000e+04  39970.000000\n",
       "mean     7430.383775   2003.485625         2.434332e+05   2103.201676\n",
       "std      8338.242134      8.114896         3.167033e+05    938.724653\n",
       "min        95.000000   1938.000000         0.000000e+00    500.000000\n",
       "25%      2350.000000   1998.000000         1.370000e+05   1600.000000\n",
       "50%      5350.000000   2004.000000         2.280000e+05   1995.000000\n",
       "75%      9850.000000   2010.000000         3.087610e+05   2300.000000\n",
       "max    195000.000000   2019.000000         9.999999e+06  20000.000000"
      ]
     },
     "execution_count": 5,
     "metadata": {},
     "output_type": "execute_result"
    }
   ],
   "source": [
    "# it describe stats of data\n",
    "data.describe()"
   ]
  },
  {
   "cell_type": "code",
   "execution_count": 11,
   "metadata": {
    "colab": {
     "base_uri": "https://localhost:8080/",
     "height": 351
    },
    "id": "mDZsYJOUkwqC",
    "outputId": "0ba1de6d-2317-450f-bd5f-0d9f01e92005"
   },
   "outputs": [
    {
     "data": {
      "text/plain": [
       "(array([8.3000e+01, 1.1030e+03, 1.1206e+04, 1.5367e+04, 3.9750e+03,\n",
       "        3.1070e+03, 2.4560e+03, 1.0870e+03, 3.1200e+02, 2.4700e+02,\n",
       "        4.6500e+02, 2.5000e+02, 1.3000e+02, 5.9000e+01, 5.6000e+01,\n",
       "        3.0000e+00, 3.0000e+00, 2.0000e+00, 0.0000e+00, 2.0000e+00,\n",
       "        0.0000e+00, 0.0000e+00, 0.0000e+00, 0.0000e+00, 2.0000e+00,\n",
       "        0.0000e+00, 0.0000e+00, 0.0000e+00, 0.0000e+00, 1.0000e+00,\n",
       "        0.0000e+00, 0.0000e+00, 3.0000e+00, 0.0000e+00, 3.0000e+00,\n",
       "        0.0000e+00, 0.0000e+00, 2.0000e+00, 0.0000e+00, 6.0000e+00,\n",
       "        0.0000e+00, 0.0000e+00, 1.0000e+00, 0.0000e+00, 9.0000e+00,\n",
       "        0.0000e+00, 0.0000e+00, 9.0000e+00, 0.0000e+00, 2.1000e+01]),\n",
       " array([  500.,   890.,  1280.,  1670.,  2060.,  2450.,  2840.,  3230.,\n",
       "         3620.,  4010.,  4400.,  4790.,  5180.,  5570.,  5960.,  6350.,\n",
       "         6740.,  7130.,  7520.,  7910.,  8300.,  8690.,  9080.,  9470.,\n",
       "         9860., 10250., 10640., 11030., 11420., 11810., 12200., 12590.,\n",
       "        12980., 13370., 13760., 14150., 14540., 14930., 15320., 15710.,\n",
       "        16100., 16490., 16880., 17270., 17660., 18050., 18440., 18830.,\n",
       "        19220., 19610., 20000.]),\n",
       " <a list of 50 Patch objects>)"
      ]
     },
     "execution_count": 11,
     "metadata": {},
     "output_type": "execute_result"
    },
    {
     "data": {
      "image/png": "[encoded data removed]",
      "text/plain": [
       "<Figure size 1080x360 with 3 Axes>"
      ]
     },
     "metadata": {
      "needs_background": "light"
     },
     "output_type": "display_data"
    }
   ],
   "source": [
    "#plotting histograms for priceUsd,milage and volume\n",
    "plt.figure(figsize=(15,5))\n",
    "plt.subplot(1,3,1)\n",
    "plt.hist(data[\"priceUSD\"],bins=50)\n",
    "plt.subplot(1,3,2)\n",
    "plt.hist(data[\"mileage(kilometers)\"],bins=50)\n",
    "plt.subplot(1,3,3)\n",
    "plt.hist(data[\"volume(cm3)\"],bins=50)"
   ]
  },
  {
   "cell_type": "markdown",
   "metadata": {
    "id": "FNkwCqTdqAdN"
   },
   "source": [
    "- histogram shows data point are right skewed.\n",
    "- we use log-transformation and Standard Scaler technique to make data point normally distributed but first we check null values and try to remove them."
   ]
  },
  {
   "cell_type": "code",
   "execution_count": 12,
   "metadata": {
    "colab": {
     "base_uri": "https://localhost:8080/"
    },
    "id": "ot2ZQ2RwmFoD",
    "outputId": "b75fed2d-3890-44b6-9adf-27dd67b85537"
   },
   "outputs": [
    {
     "data": {
      "text/plain": [
       "make                      0\n",
       "model                     0\n",
       "priceUSD                  0\n",
       "year                      0\n",
       "condition                 0\n",
       "mileage(kilometers)       0\n",
       "fuel_type                 0\n",
       "volume(cm3)              30\n",
       "color                     0\n",
       "transmission              0\n",
       "drive_unit             1345\n",
       "segment                3755\n",
       "dtype: int64"
      ]
     },
     "execution_count": 12,
     "metadata": {},
     "output_type": "execute_result"
    }
   ],
   "source": [
    "#now,we check data for null values.\n",
    "#and is found, we take steps to either drop them or impute them\n",
    "#with some values.\n",
    "data.isnull().sum()"
   ]
  },
  {
   "cell_type": "code",
   "execution_count": 13,
   "metadata": {
    "id": "2I219ahln-Sk"
   },
   "outputs": [],
   "source": [
    "from sklearn.impute import SimpleImputer\n",
    "#imputing null values to volume column\n",
    "#since,volume is float type data that's why strategy=\"mean\" is used.\n",
    "SI=SimpleImputer(strategy=\"mean\")\n",
    "data[\"volume(cm3)\"]=SI.fit_transform(data[[\"volume(cm3)\"]])\n",
    "#since,segment and drive_unit were object type\n",
    "#that is why strategy=\"most frquent\" is used.\n",
    "SI=SimpleImputer(strategy=\"most_frequent\")\n",
    "data[\"segment\"]=SI.fit_transform(data[[\"segment\"]])\n",
    "SI=SimpleImputer(strategy=\"most_frequent\")\n",
    "data[\"drive_unit\"]=SI.fit_transform(data[[\"drive_unit\"]])"
   ]
  },
  {
   "cell_type": "code",
   "execution_count": 14,
   "metadata": {
    "colab": {
     "base_uri": "https://localhost:8080/"
    },
    "id": "6kw-kiQpoLs7",
    "outputId": "8ee641d0-9fb6-45d0-af22-5e13ff756eec"
   },
   "outputs": [
    {
     "data": {
      "text/plain": [
       "make                   False\n",
       "model                  False\n",
       "priceUSD               False\n",
       "year                   False\n",
       "condition              False\n",
       "mileage(kilometers)    False\n",
       "fuel_type              False\n",
       "volume(cm3)            False\n",
       "color                  False\n",
       "transmission           False\n",
       "drive_unit             False\n",
       "segment                False\n",
       "dtype: bool"
      ]
     },
     "execution_count": 14,
     "metadata": {},
     "output_type": "execute_result"
    }
   ],
   "source": [
    "#again,check for null values\n",
    "data.isnull().any()"
   ]
  },
  {
   "cell_type": "markdown",
   "metadata": {
    "id": "pLD-P6ivrJBu"
   },
   "source": [
    "- now, there is no null value in our data."
   ]
  },
  {
   "cell_type": "code",
   "execution_count": 15,
   "metadata": {
    "colab": {
     "base_uri": "https://localhost:8080/",
     "height": 204
    },
    "id": "HirSrAeipQ-V",
    "outputId": "c276d95c-9efb-49ac-8fe8-56cfa342d00f"
   },
   "outputs": [
    {
     "data": {
      "text/html": [
       "<div>\n",
       "<style scoped>\n",
       "    .dataframe tbody tr th:only-of-type {\n",
       "        vertical-align: middle;\n",
       "    }\n",
       "\n",
       "    .dataframe tbody tr th {\n",
       "        vertical-align: top;\n",
       "    }\n",
       "\n",
       "    .dataframe thead th {\n",
       "        text-align: right;\n",
       "    }\n",
       "</style>\n",
       "<table border=\"1\" class=\"dataframe\">\n",
       "  <thead>\n",
       "    <tr style=\"text-align: right;\">\n",
       "      <th></th>\n",
       "      <th>make</th>\n",
       "      <th>model</th>\n",
       "      <th>priceUSD</th>\n",
       "      <th>year</th>\n",
       "      <th>condition</th>\n",
       "      <th>mileage(kilometers)</th>\n",
       "      <th>fuel_type</th>\n",
       "      <th>volume(cm3)</th>\n",
       "      <th>color</th>\n",
       "      <th>transmission</th>\n",
       "      <th>drive_unit</th>\n",
       "      <th>segment</th>\n",
       "    </tr>\n",
       "  </thead>\n",
       "  <tbody>\n",
       "    <tr>\n",
       "      <th>0</th>\n",
       "      <td>honda</td>\n",
       "      <td>accord</td>\n",
       "      <td>565</td>\n",
       "      <td>1993</td>\n",
       "      <td>with mileage</td>\n",
       "      <td>960015.0</td>\n",
       "      <td>petrol</td>\n",
       "      <td>2000.0</td>\n",
       "      <td>black</td>\n",
       "      <td>mechanics</td>\n",
       "      <td>front-wheel drive</td>\n",
       "      <td>D</td>\n",
       "    </tr>\n",
       "    <tr>\n",
       "      <th>1</th>\n",
       "      <td>ford</td>\n",
       "      <td>fusion</td>\n",
       "      <td>5550</td>\n",
       "      <td>2008</td>\n",
       "      <td>with mileage</td>\n",
       "      <td>172000.0</td>\n",
       "      <td>diesel</td>\n",
       "      <td>1400.0</td>\n",
       "      <td>silver</td>\n",
       "      <td>mechanics</td>\n",
       "      <td>front-wheel drive</td>\n",
       "      <td>M</td>\n",
       "    </tr>\n",
       "    <tr>\n",
       "      <th>2</th>\n",
       "      <td>nissan</td>\n",
       "      <td>teana</td>\n",
       "      <td>8300</td>\n",
       "      <td>2008</td>\n",
       "      <td>with mileage</td>\n",
       "      <td>223000.0</td>\n",
       "      <td>petrol</td>\n",
       "      <td>2500.0</td>\n",
       "      <td>purple</td>\n",
       "      <td>auto</td>\n",
       "      <td>front-wheel drive</td>\n",
       "      <td>D</td>\n",
       "    </tr>\n",
       "    <tr>\n",
       "      <th>3</th>\n",
       "      <td>volkswagen</td>\n",
       "      <td>fox</td>\n",
       "      <td>3300</td>\n",
       "      <td>2005</td>\n",
       "      <td>with mileage</td>\n",
       "      <td>140000.0</td>\n",
       "      <td>petrol</td>\n",
       "      <td>1200.0</td>\n",
       "      <td>blue</td>\n",
       "      <td>mechanics</td>\n",
       "      <td>front-wheel drive</td>\n",
       "      <td>A</td>\n",
       "    </tr>\n",
       "    <tr>\n",
       "      <th>4</th>\n",
       "      <td>nissan</td>\n",
       "      <td>primera</td>\n",
       "      <td>2450</td>\n",
       "      <td>2002</td>\n",
       "      <td>with damage</td>\n",
       "      <td>413000.0</td>\n",
       "      <td>diesel</td>\n",
       "      <td>2200.0</td>\n",
       "      <td>burgundy</td>\n",
       "      <td>mechanics</td>\n",
       "      <td>front-wheel drive</td>\n",
       "      <td>D</td>\n",
       "    </tr>\n",
       "  </tbody>\n",
       "</table>\n",
       "</div>"
      ],
      "text/plain": [
       "         make    model  priceUSD  year     condition  mileage(kilometers)  \\\n",
       "0       honda   accord       565  1993  with mileage             960015.0   \n",
       "1        ford   fusion      5550  2008  with mileage             172000.0   \n",
       "2      nissan    teana      8300  2008  with mileage             223000.0   \n",
       "3  volkswagen      fox      3300  2005  with mileage             140000.0   \n",
       "4      nissan  primera      2450  2002   with damage             413000.0   \n",
       "\n",
       "  fuel_type  volume(cm3)     color transmission         drive_unit segment  \n",
       "0    petrol       2000.0     black    mechanics  front-wheel drive       D  \n",
       "1    diesel       1400.0    silver    mechanics  front-wheel drive       M  \n",
       "2    petrol       2500.0    purple         auto  front-wheel drive       D  \n",
       "3    petrol       1200.0      blue    mechanics  front-wheel drive       A  \n",
       "4    diesel       2200.0  burgundy    mechanics  front-wheel drive       D  "
      ]
     },
     "execution_count": 15,
     "metadata": {},
     "output_type": "execute_result"
    }
   ],
   "source": [
    "data.head()"
   ]
  },
  {
   "cell_type": "code",
   "execution_count": 16,
   "metadata": {
    "id": "MXoiOCayzWiJ"
   },
   "outputs": [],
   "source": [
    "#we remove year column and replace it with \n",
    "# difference of current year and year which will show how old car is.\n",
    "data[\"current_year\"]=2020\n",
    "data[\"YEAR\"]=data[\"current_year\"]-data[\"year\"]\n",
    "data=data.drop([\"year\",\"current_year\"],axis=1)"
   ]
  },
  {
   "cell_type": "code",
   "execution_count": 17,
   "metadata": {
    "colab": {
     "base_uri": "https://localhost:8080/",
     "height": 350
    },
    "id": "NSAKAaeBzRcz",
    "outputId": "6768354b-ed28-4fab-903c-0e5456c6ee6a"
   },
   "outputs": [
    {
     "data": {
      "text/plain": [
       "<matplotlib.axes._subplots.AxesSubplot at 0x14fff69e760>"
      ]
     },
     "execution_count": 17,
     "metadata": {},
     "output_type": "execute_result"
    },
    {
     "data": {
      "image/png": "[encoded data removed]",
      "text/plain": [
       "<Figure size 432x288 with 1 Axes>"
      ]
     },
     "metadata": {
      "needs_background": "light"
     },
     "output_type": "display_data"
    }
   ],
   "source": [
    " #plotting priceUSD vs YEAR\n",
    " sns.scatterplot(data[\"YEAR\"],data[\"priceUSD\"])"
   ]
  },
  {
   "cell_type": "markdown",
   "metadata": {
    "id": "dTMxw7Crz0xN"
   },
   "source": [
    "- **YEAR VS priceUSD** plots shows as age of car increase its price decrease."
   ]
  },
  {
   "cell_type": "code",
   "execution_count": 18,
   "metadata": {
    "colab": {
     "base_uri": "https://localhost:8080/",
     "height": 204
    },
    "id": "bnBW90TH0Prf",
    "outputId": "e1e5dc4b-1ee4-486e-e434-7fd16742fa6d"
   },
   "outputs": [
    {
     "data": {
      "text/html": [
       "<div>\n",
       "<style scoped>\n",
       "    .dataframe tbody tr th:only-of-type {\n",
       "        vertical-align: middle;\n",
       "    }\n",
       "\n",
       "    .dataframe tbody tr th {\n",
       "        vertical-align: top;\n",
       "    }\n",
       "\n",
       "    .dataframe thead th {\n",
       "        text-align: right;\n",
       "    }\n",
       "</style>\n",
       "<table border=\"1\" class=\"dataframe\">\n",
       "  <thead>\n",
       "    <tr style=\"text-align: right;\">\n",
       "      <th></th>\n",
       "      <th>make</th>\n",
       "      <th>model</th>\n",
       "      <th>priceUSD</th>\n",
       "      <th>condition</th>\n",
       "      <th>mileage(kilometers)</th>\n",
       "      <th>fuel_type</th>\n",
       "      <th>volume(cm3)</th>\n",
       "      <th>color</th>\n",
       "      <th>transmission</th>\n",
       "      <th>drive_unit</th>\n",
       "      <th>segment</th>\n",
       "      <th>YEAR</th>\n",
       "    </tr>\n",
       "  </thead>\n",
       "  <tbody>\n",
       "    <tr>\n",
       "      <th>0</th>\n",
       "      <td>honda</td>\n",
       "      <td>accord</td>\n",
       "      <td>565</td>\n",
       "      <td>with mileage</td>\n",
       "      <td>960015.0</td>\n",
       "      <td>petrol</td>\n",
       "      <td>2000.0</td>\n",
       "      <td>black</td>\n",
       "      <td>mechanics</td>\n",
       "      <td>front-wheel drive</td>\n",
       "      <td>D</td>\n",
       "      <td>27</td>\n",
       "    </tr>\n",
       "    <tr>\n",
       "      <th>1</th>\n",
       "      <td>ford</td>\n",
       "      <td>fusion</td>\n",
       "      <td>5550</td>\n",
       "      <td>with mileage</td>\n",
       "      <td>172000.0</td>\n",
       "      <td>diesel</td>\n",
       "      <td>1400.0</td>\n",
       "      <td>silver</td>\n",
       "      <td>mechanics</td>\n",
       "      <td>front-wheel drive</td>\n",
       "      <td>M</td>\n",
       "      <td>12</td>\n",
       "    </tr>\n",
       "    <tr>\n",
       "      <th>2</th>\n",
       "      <td>nissan</td>\n",
       "      <td>teana</td>\n",
       "      <td>8300</td>\n",
       "      <td>with mileage</td>\n",
       "      <td>223000.0</td>\n",
       "      <td>petrol</td>\n",
       "      <td>2500.0</td>\n",
       "      <td>purple</td>\n",
       "      <td>auto</td>\n",
       "      <td>front-wheel drive</td>\n",
       "      <td>D</td>\n",
       "      <td>12</td>\n",
       "    </tr>\n",
       "    <tr>\n",
       "      <th>3</th>\n",
       "      <td>volkswagen</td>\n",
       "      <td>fox</td>\n",
       "      <td>3300</td>\n",
       "      <td>with mileage</td>\n",
       "      <td>140000.0</td>\n",
       "      <td>petrol</td>\n",
       "      <td>1200.0</td>\n",
       "      <td>blue</td>\n",
       "      <td>mechanics</td>\n",
       "      <td>front-wheel drive</td>\n",
       "      <td>A</td>\n",
       "      <td>15</td>\n",
       "    </tr>\n",
       "    <tr>\n",
       "      <th>4</th>\n",
       "      <td>nissan</td>\n",
       "      <td>primera</td>\n",
       "      <td>2450</td>\n",
       "      <td>with damage</td>\n",
       "      <td>413000.0</td>\n",
       "      <td>diesel</td>\n",
       "      <td>2200.0</td>\n",
       "      <td>burgundy</td>\n",
       "      <td>mechanics</td>\n",
       "      <td>front-wheel drive</td>\n",
       "      <td>D</td>\n",
       "      <td>18</td>\n",
       "    </tr>\n",
       "  </tbody>\n",
       "</table>\n",
       "</div>"
      ],
      "text/plain": [
       "         make    model  priceUSD     condition  mileage(kilometers) fuel_type  \\\n",
       "0       honda   accord       565  with mileage             960015.0    petrol   \n",
       "1        ford   fusion      5550  with mileage             172000.0    diesel   \n",
       "2      nissan    teana      8300  with mileage             223000.0    petrol   \n",
       "3  volkswagen      fox      3300  with mileage             140000.0    petrol   \n",
       "4      nissan  primera      2450   with damage             413000.0    diesel   \n",
       "\n",
       "   volume(cm3)     color transmission         drive_unit segment  YEAR  \n",
       "0       2000.0     black    mechanics  front-wheel drive       D    27  \n",
       "1       1400.0    silver    mechanics  front-wheel drive       M    12  \n",
       "2       2500.0    purple         auto  front-wheel drive       D    12  \n",
       "3       1200.0      blue    mechanics  front-wheel drive       A    15  \n",
       "4       2200.0  burgundy    mechanics  front-wheel drive       D    18  "
      ]
     },
     "execution_count": 18,
     "metadata": {},
     "output_type": "execute_result"
    }
   ],
   "source": [
    "data.head()"
   ]
  },
  {
   "cell_type": "code",
   "execution_count": 19,
   "metadata": {
    "colab": {
     "base_uri": "https://localhost:8080/",
     "height": 439
    },
    "id": "HmDsK8zVt91q",
    "outputId": "7b46005b-cd82-486e-f58e-fb73c65524bf"
   },
   "outputs": [
    {
     "data": {
      "text/plain": [
       "<matplotlib.axes._subplots.AxesSubplot at 0x14fff723130>"
      ]
     },
     "execution_count": 19,
     "metadata": {},
     "output_type": "execute_result"
    },
    {
     "data": {
      "image/png": "[encoded data removed]",
      "text/plain": [
       "<Figure size 1080x360 with 2 Axes>"
      ]
     },
     "metadata": {
      "needs_background": "light"
     },
     "output_type": "display_data"
    }
   ],
   "source": [
    " #we see how volume and mileage are related to priceUSD\n",
    " plt.figure(figsize=(15,5))\n",
    " plt.subplot(1,2,1)\n",
    " sns.scatterplot(data[\"mileage(kilometers)\"],data[\"priceUSD\"],marker=\"X\",color=\"red\")\n",
    " plt.subplot(1,2,2)\n",
    " sns.regplot(data[\"volume(cm3)\"],data[\"priceUSD\"],marker=\"X\",color=\"red\")\n",
    " "
   ]
  },
  {
   "cell_type": "markdown",
   "metadata": {
    "id": "Cnaf5uD5ysBE"
   },
   "source": [
    "- plot shows there are some outlier in dataset.\n",
    "- car with less mileage has higher price.\n",
    "- from plot we see volume and price are linearly co-related.\n"
   ]
  },
  {
   "cell_type": "code",
   "execution_count": 20,
   "metadata": {
    "id": "duUpjEbLui3I"
   },
   "outputs": [],
   "source": [
    "# here we group categorical data and sort then in descending order of priceUSD\n",
    "#defining a function grouping_data\n",
    "def grouping_data(feature):\n",
    "  group=data.groupby(data[feature]).mean()\n",
    "  group_sort=group.sort_values(by=\"priceUSD\",ascending=False)\n",
    "  sns.barplot(group_sort.priceUSD,group_sort.index)\n"
   ]
  },
  {
   "cell_type": "code",
   "execution_count": 21,
   "metadata": {
    "colab": {
     "base_uri": "https://localhost:8080/",
     "height": 333
    },
    "id": "VdbQQIOS1MzW",
    "outputId": "04b613fa-2228-427e-b769-3f1b74635a0f"
   },
   "outputs": [
    {
     "data": {
      "image/png": "[encoded data removed]",
      "text/plain": [
       "<Figure size 432x288 with 1 Axes>"
      ]
     },
     "metadata": {
      "needs_background": "light"
     },
     "output_type": "display_data"
    }
   ],
   "source": [
    "#grouing color wise\n",
    "grouping_data(\"color\")"
   ]
  },
  {
   "cell_type": "code",
   "execution_count": 22,
   "metadata": {
    "colab": {
     "base_uri": "https://localhost:8080/",
     "height": 333
    },
    "id": "NnbqwaQb10DX",
    "outputId": "38eb8b68-86b0-45d8-d9b9-ea848688bc00"
   },
   "outputs": [
    {
     "data": {
      "image/png": "[encoded data removed]",
      "text/plain": [
       "<Figure size 432x288 with 1 Axes>"
      ]
     },
     "metadata": {
      "needs_background": "light"
     },
     "output_type": "display_data"
    }
   ],
   "source": [
    "#grouping segment wise\n",
    "grouping_data(\"segment\")"
   ]
  },
  {
   "cell_type": "code",
   "execution_count": 23,
   "metadata": {
    "colab": {
     "base_uri": "https://localhost:8080/",
     "height": 333
    },
    "id": "2_kvZyYn10fD",
    "outputId": "9c0349ea-06ba-4dc4-b171-f6bf6659e95b"
   },
   "outputs": [
    {
     "data": {
      "image/png": "[encoded data removed]",
      "text/plain": [
       "<Figure size 432x288 with 1 Axes>"
      ]
     },
     "metadata": {
      "needs_background": "light"
     },
     "output_type": "display_data"
    }
   ],
   "source": [
    "#grouping transmission wise\n",
    "grouping_data(\"transmission\")"
   ]
  },
  {
   "cell_type": "code",
   "execution_count": 24,
   "metadata": {
    "colab": {
     "base_uri": "https://localhost:8080/",
     "height": 333
    },
    "id": "C6BNSKvp10ZU",
    "outputId": "480f30c9-ab52-403e-ea4f-7d8a32ce46f0"
   },
   "outputs": [
    {
     "data": {
      "image/png": "[encoded data removed]",
      "text/plain": [
       "<Figure size 432x288 with 1 Axes>"
      ]
     },
     "metadata": {
      "needs_background": "light"
     },
     "output_type": "display_data"
    }
   ],
   "source": [
    "#grouping drive_unit\n",
    "grouping_data(\"drive_unit\")"
   ]
  },
  {
   "cell_type": "code",
   "execution_count": 25,
   "metadata": {
    "colab": {
     "base_uri": "https://localhost:8080/",
     "height": 333
    },
    "id": "kHc4eIf310UA",
    "outputId": "726be3aa-5eb3-4cbe-c511-0baa4c3f184e"
   },
   "outputs": [
    {
     "data": {
      "image/png": "[encoded data removed]",
      "text/plain": [
       "<Figure size 432x288 with 1 Axes>"
      ]
     },
     "metadata": {
      "needs_background": "light"
     },
     "output_type": "display_data"
    }
   ],
   "source": [
    "#grouping condition wise\n",
    "grouping_data(\"condition\")"
   ]
  },
  {
   "cell_type": "markdown",
   "metadata": {
    "id": "pfeN6VdU9y0M"
   },
   "source": [
    "## creating one-hot-encoding of categorical data\n"
   ]
  },
  {
   "cell_type": "code",
   "execution_count": 26,
   "metadata": {
    "id": "sNsUn7wI9xVm"
   },
   "outputs": [],
   "source": [
    "#before one-hot-encoding we drop some columns \n",
    "data=data.drop([\"make\",\"model\"],axis=1)\n",
    "data=pd.get_dummies(data,drop_first=True)"
   ]
  },
  {
   "cell_type": "code",
   "execution_count": 27,
   "metadata": {
    "colab": {
     "base_uri": "https://localhost:8080/",
     "height": 258
    },
    "id": "x-asXYbM-n3A",
    "outputId": "c34e7fbc-a571-4ed7-9ecc-ad9fdbd7f84f"
   },
   "outputs": [
    {
     "data": {
      "text/html": [
       "<div>\n",
       "<style scoped>\n",
       "    .dataframe tbody tr th:only-of-type {\n",
       "        vertical-align: middle;\n",
       "    }\n",
       "\n",
       "    .dataframe tbody tr th {\n",
       "        vertical-align: top;\n",
       "    }\n",
       "\n",
       "    .dataframe thead th {\n",
       "        text-align: right;\n",
       "    }\n",
       "</style>\n",
       "<table border=\"1\" class=\"dataframe\">\n",
       "  <thead>\n",
       "    <tr style=\"text-align: right;\">\n",
       "      <th></th>\n",
       "      <th>priceUSD</th>\n",
       "      <th>mileage(kilometers)</th>\n",
       "      <th>volume(cm3)</th>\n",
       "      <th>YEAR</th>\n",
       "      <th>condition_with damage</th>\n",
       "      <th>condition_with mileage</th>\n",
       "      <th>fuel_type_electrocar</th>\n",
       "      <th>fuel_type_petrol</th>\n",
       "      <th>color_blue</th>\n",
       "      <th>color_brown</th>\n",
       "      <th>...</th>\n",
       "      <th>drive_unit_part-time four-wheel drive</th>\n",
       "      <th>drive_unit_rear drive</th>\n",
       "      <th>segment_B</th>\n",
       "      <th>segment_C</th>\n",
       "      <th>segment_D</th>\n",
       "      <th>segment_E</th>\n",
       "      <th>segment_F</th>\n",
       "      <th>segment_J</th>\n",
       "      <th>segment_M</th>\n",
       "      <th>segment_S</th>\n",
       "    </tr>\n",
       "  </thead>\n",
       "  <tbody>\n",
       "    <tr>\n",
       "      <th>0</th>\n",
       "      <td>565</td>\n",
       "      <td>960015.0</td>\n",
       "      <td>2000.0</td>\n",
       "      <td>27</td>\n",
       "      <td>0</td>\n",
       "      <td>1</td>\n",
       "      <td>0</td>\n",
       "      <td>1</td>\n",
       "      <td>0</td>\n",
       "      <td>0</td>\n",
       "      <td>...</td>\n",
       "      <td>0</td>\n",
       "      <td>0</td>\n",
       "      <td>0</td>\n",
       "      <td>0</td>\n",
       "      <td>1</td>\n",
       "      <td>0</td>\n",
       "      <td>0</td>\n",
       "      <td>0</td>\n",
       "      <td>0</td>\n",
       "      <td>0</td>\n",
       "    </tr>\n",
       "    <tr>\n",
       "      <th>1</th>\n",
       "      <td>5550</td>\n",
       "      <td>172000.0</td>\n",
       "      <td>1400.0</td>\n",
       "      <td>12</td>\n",
       "      <td>0</td>\n",
       "      <td>1</td>\n",
       "      <td>0</td>\n",
       "      <td>0</td>\n",
       "      <td>0</td>\n",
       "      <td>0</td>\n",
       "      <td>...</td>\n",
       "      <td>0</td>\n",
       "      <td>0</td>\n",
       "      <td>0</td>\n",
       "      <td>0</td>\n",
       "      <td>0</td>\n",
       "      <td>0</td>\n",
       "      <td>0</td>\n",
       "      <td>0</td>\n",
       "      <td>1</td>\n",
       "      <td>0</td>\n",
       "    </tr>\n",
       "    <tr>\n",
       "      <th>2</th>\n",
       "      <td>8300</td>\n",
       "      <td>223000.0</td>\n",
       "      <td>2500.0</td>\n",
       "      <td>12</td>\n",
       "      <td>0</td>\n",
       "      <td>1</td>\n",
       "      <td>0</td>\n",
       "      <td>1</td>\n",
       "      <td>0</td>\n",
       "      <td>0</td>\n",
       "      <td>...</td>\n",
       "      <td>0</td>\n",
       "      <td>0</td>\n",
       "      <td>0</td>\n",
       "      <td>0</td>\n",
       "      <td>1</td>\n",
       "      <td>0</td>\n",
       "      <td>0</td>\n",
       "      <td>0</td>\n",
       "      <td>0</td>\n",
       "      <td>0</td>\n",
       "    </tr>\n",
       "    <tr>\n",
       "      <th>3</th>\n",
       "      <td>3300</td>\n",
       "      <td>140000.0</td>\n",
       "      <td>1200.0</td>\n",
       "      <td>15</td>\n",
       "      <td>0</td>\n",
       "      <td>1</td>\n",
       "      <td>0</td>\n",
       "      <td>1</td>\n",
       "      <td>1</td>\n",
       "      <td>0</td>\n",
       "      <td>...</td>\n",
       "      <td>0</td>\n",
       "      <td>0</td>\n",
       "      <td>0</td>\n",
       "      <td>0</td>\n",
       "      <td>0</td>\n",
       "      <td>0</td>\n",
       "      <td>0</td>\n",
       "      <td>0</td>\n",
       "      <td>0</td>\n",
       "      <td>0</td>\n",
       "    </tr>\n",
       "    <tr>\n",
       "      <th>4</th>\n",
       "      <td>2450</td>\n",
       "      <td>413000.0</td>\n",
       "      <td>2200.0</td>\n",
       "      <td>18</td>\n",
       "      <td>1</td>\n",
       "      <td>0</td>\n",
       "      <td>0</td>\n",
       "      <td>0</td>\n",
       "      <td>0</td>\n",
       "      <td>0</td>\n",
       "      <td>...</td>\n",
       "      <td>0</td>\n",
       "      <td>0</td>\n",
       "      <td>0</td>\n",
       "      <td>0</td>\n",
       "      <td>1</td>\n",
       "      <td>0</td>\n",
       "      <td>0</td>\n",
       "      <td>0</td>\n",
       "      <td>0</td>\n",
       "      <td>0</td>\n",
       "    </tr>\n",
       "  </tbody>\n",
       "</table>\n",
       "<p>5 rows × 32 columns</p>\n",
       "</div>"
      ],
      "text/plain": [
       "   priceUSD  mileage(kilometers)  volume(cm3)  YEAR  condition_with damage  \\\n",
       "0       565             960015.0       2000.0    27                      0   \n",
       "1      5550             172000.0       1400.0    12                      0   \n",
       "2      8300             223000.0       2500.0    12                      0   \n",
       "3      3300             140000.0       1200.0    15                      0   \n",
       "4      2450             413000.0       2200.0    18                      1   \n",
       "\n",
       "   condition_with mileage  fuel_type_electrocar  fuel_type_petrol  color_blue  \\\n",
       "0                       1                     0                 1           0   \n",
       "1                       1                     0                 0           0   \n",
       "2                       1                     0                 1           0   \n",
       "3                       1                     0                 1           1   \n",
       "4                       0                     0                 0           0   \n",
       "\n",
       "   color_brown  ...  drive_unit_part-time four-wheel drive  \\\n",
       "0            0  ...                                      0   \n",
       "1            0  ...                                      0   \n",
       "2            0  ...                                      0   \n",
       "3            0  ...                                      0   \n",
       "4            0  ...                                      0   \n",
       "\n",
       "   drive_unit_rear drive  segment_B  segment_C  segment_D  segment_E  \\\n",
       "0                      0          0          0          1          0   \n",
       "1                      0          0          0          0          0   \n",
       "2                      0          0          0          1          0   \n",
       "3                      0          0          0          0          0   \n",
       "4                      0          0          0          1          0   \n",
       "\n",
       "   segment_F  segment_J  segment_M  segment_S  \n",
       "0          0          0          0          0  \n",
       "1          0          0          1          0  \n",
       "2          0          0          0          0  \n",
       "3          0          0          0          0  \n",
       "4          0          0          0          0  \n",
       "\n",
       "[5 rows x 32 columns]"
      ]
     },
     "execution_count": 27,
     "metadata": {},
     "output_type": "execute_result"
    }
   ],
   "source": [
    "data.head()\n"
   ]
  },
  {
   "cell_type": "code",
   "execution_count": 28,
   "metadata": {
    "colab": {
     "base_uri": "https://localhost:8080/"
    },
    "id": "kHE-QG3E_PdS",
    "outputId": "5aa55f05-1794-402d-bc48-c5148c8cb833"
   },
   "outputs": [
    {
     "name": "stdout",
     "output_type": "stream",
     "text": [
      "<class 'pandas.core.frame.DataFrame'>\n",
      "Int64Index: 40000 entries, 0 to 39999\n",
      "Data columns (total 32 columns):\n",
      " #   Column                                 Non-Null Count  Dtype  \n",
      "---  ------                                 --------------  -----  \n",
      " 0   priceUSD                               40000 non-null  int64  \n",
      " 1   mileage(kilometers)                    40000 non-null  float64\n",
      " 2   volume(cm3)                            40000 non-null  float64\n",
      " 3   YEAR                                   40000 non-null  int64  \n",
      " 4   condition_with damage                  40000 non-null  uint8  \n",
      " 5   condition_with mileage                 40000 non-null  uint8  \n",
      " 6   fuel_type_electrocar                   40000 non-null  uint8  \n",
      " 7   fuel_type_petrol                       40000 non-null  uint8  \n",
      " 8   color_blue                             40000 non-null  uint8  \n",
      " 9   color_brown                            40000 non-null  uint8  \n",
      " 10  color_burgundy                         40000 non-null  uint8  \n",
      " 11  color_gray                             40000 non-null  uint8  \n",
      " 12  color_green                            40000 non-null  uint8  \n",
      " 13  color_orange                           40000 non-null  uint8  \n",
      " 14  color_other                            40000 non-null  uint8  \n",
      " 15  color_purple                           40000 non-null  uint8  \n",
      " 16  color_red                              40000 non-null  uint8  \n",
      " 17  color_silver                           40000 non-null  uint8  \n",
      " 18  color_white                            40000 non-null  uint8  \n",
      " 19  color_yellow                           40000 non-null  uint8  \n",
      " 20  transmission_mechanics                 40000 non-null  uint8  \n",
      " 21  drive_unit_front-wheel drive           40000 non-null  uint8  \n",
      " 22  drive_unit_part-time four-wheel drive  40000 non-null  uint8  \n",
      " 23  drive_unit_rear drive                  40000 non-null  uint8  \n",
      " 24  segment_B                              40000 non-null  uint8  \n",
      " 25  segment_C                              40000 non-null  uint8  \n",
      " 26  segment_D                              40000 non-null  uint8  \n",
      " 27  segment_E                              40000 non-null  uint8  \n",
      " 28  segment_F                              40000 non-null  uint8  \n",
      " 29  segment_J                              40000 non-null  uint8  \n",
      " 30  segment_M                              40000 non-null  uint8  \n",
      " 31  segment_S                              40000 non-null  uint8  \n",
      "dtypes: float64(2), int64(2), uint8(28)\n",
      "memory usage: 2.6 MB\n"
     ]
    }
   ],
   "source": [
    "data.info()"
   ]
  },
  {
   "cell_type": "code",
   "execution_count": 29,
   "metadata": {
    "colab": {
     "base_uri": "https://localhost:8080/",
     "height": 612
    },
    "id": "U3cv9in0_5PP",
    "outputId": "b4909432-3b77-48c2-be1a-c0ea4dc61675"
   },
   "outputs": [
    {
     "data": {
      "text/plain": [
       "<matplotlib.axes._subplots.AxesSubplot at 0x14f81509220>"
      ]
     },
     "execution_count": 29,
     "metadata": {},
     "output_type": "execute_result"
    },
    {
     "data": {
      "image/png": "[encoded data removed]",
      "text/plain": [
       "<Figure size 720x720 with 2 Axes>"
      ]
     },
     "metadata": {
      "needs_background": "light"
     },
     "output_type": "display_data"
    }
   ],
   "source": [
    "#we use heatmap to see co-relations between continous data points only..\n",
    "cont_data=data.loc[:,[\"mileage(kilometers)\",\"volume(cm3)\",\"YEAR\",\"priceUSD\"]]\n",
    "cm=cont_data.corr()\n",
    "plt.figure(figsize=(10,10))\n",
    "sns.heatmap(cm,annot=True)"
   ]
  },
  {
   "cell_type": "markdown",
   "metadata": {
    "id": "aYoYKygJ3ktx"
   },
   "source": [
    "- plot shows YEAR and priceUSD are highly negatevely co-related which is alredy seen earlier."
   ]
  },
  {
   "cell_type": "code",
   "execution_count": 30,
   "metadata": {
    "id": "ZQSWbg0O_6Qy"
   },
   "outputs": [],
   "source": [
    "#creating independent variable x and dependent varible y\n",
    "x=data.drop(\"priceUSD\",axis=1)\n",
    "y=data.get(\"priceUSD\")"
   ]
  },
  {
   "cell_type": "code",
   "execution_count": 31,
   "metadata": {
    "id": "IiQacM-KAmZa"
   },
   "outputs": [],
   "source": [
    "#now we select best feature using f-test and p-value among them\n",
    "from sklearn.feature_selection import f_regression\n",
    "f_reg=f_regression(x,y)\n"
   ]
  },
  {
   "cell_type": "code",
   "execution_count": 32,
   "metadata": {
    "colab": {
     "base_uri": "https://localhost:8080/"
    },
    "id": "UKpqBVYOBSMm",
    "outputId": "9bec681f-fa13-4fa9-fbcd-8d7bc298f47a"
   },
   "outputs": [
    {
     "data": {
      "text/plain": [
       "(array([1.21637360e+03, 3.20374912e+03, 2.35578589e+04, 1.04310494e+02,\n",
       "        3.16319822e+02, 3.78157588e+02, 4.39384254e+02, 4.54203567e+02,\n",
       "        3.81801542e+02, 2.06241884e+02, 7.63966181e+01, 8.35343462e+02,\n",
       "        9.33918164e-01, 2.19378173e+01, 4.35799956e+01, 2.57450980e+02,\n",
       "        1.74120354e+02, 2.60222250e+02, 9.72206770e+00, 1.01471571e+04,\n",
       "        4.79334291e+03, 9.90306173e+02, 3.47465428e+01, 4.76245064e+02,\n",
       "        8.89038336e+02, 3.25070029e+02, 1.00977365e+02, 1.16277374e+02,\n",
       "        6.05536291e+03, 1.94521496e+01, 8.03531658e+02]),\n",
       " array([1.47915336e-262, 0.00000000e+000, 0.00000000e+000, 1.85361324e-024,\n",
       "        1.71564750e-070, 7.65377633e-084, 4.90989732e-097, 3.17363376e-100,\n",
       "        1.25312847e-084, 1.18575690e-046, 2.40886846e-018, 8.32987771e-182,\n",
       "        3.33852701e-001, 2.82553326e-006, 4.12056540e-011, 9.34743322e-058,\n",
       "        1.12797932e-039, 2.34690576e-058, 1.82197679e-003, 0.00000000e+000,\n",
       "        0.00000000e+000, 9.67467714e-215, 3.78550390e-009, 5.75716017e-105,\n",
       "        3.11718965e-193, 2.20605434e-072, 9.92770923e-024, 4.50278520e-027,\n",
       "        0.00000000e+000, 1.03420534e-005, 4.98937484e-175]))"
      ]
     },
     "execution_count": 32,
     "metadata": {},
     "output_type": "execute_result"
    }
   ],
   "source": [
    "f_reg"
   ]
  },
  {
   "cell_type": "markdown",
   "metadata": {
    "id": "yRqoANhaqhW2"
   },
   "source": [
    "- from f-test value and p-value we see that all the selected features are highly co-related\n",
    "- every feature is highly co-related but we use another method to be more clarify about co-realations"
   ]
  },
  {
   "cell_type": "code",
   "execution_count": 33,
   "metadata": {
    "colab": {
     "base_uri": "https://localhost:8080/"
    },
    "id": "e4YhFL6jd8Rz",
    "outputId": "5fb48366-7fa9-4e66-8837-39da4127ddea"
   },
   "outputs": [
    {
     "data": {
      "text/plain": [
       "ExtraTreeRegressor()"
      ]
     },
     "execution_count": 33,
     "metadata": {},
     "output_type": "execute_result"
    }
   ],
   "source": [
    "#we use ExtraTreeRegressor to get the important feature \n",
    "from sklearn.tree import ExtraTreeRegressor\n",
    "et_reg=ExtraTreeRegressor()\n",
    "et_reg.fit(x,y)"
   ]
  },
  {
   "cell_type": "code",
   "execution_count": 34,
   "metadata": {
    "colab": {
     "base_uri": "https://localhost:8080/"
    },
    "id": "RPEj1U8-eHa7",
    "outputId": "8085f123-a07f-4e44-8e03-5bc3f14b7044"
   },
   "outputs": [
    {
     "data": {
      "text/plain": [
       "array([0.0382187 , 0.12684274, 0.39908392, 0.0025008 , 0.00110598,\n",
       "       0.01531498, 0.02525272, 0.00625628, 0.00240994, 0.00166223,\n",
       "       0.00551227, 0.00212237, 0.0006454 , 0.01117997, 0.01031014,\n",
       "       0.00321267, 0.00357263, 0.0051709 , 0.00486337, 0.2024464 ,\n",
       "       0.05196839, 0.00832306, 0.02752157, 0.0042171 , 0.00357321,\n",
       "       0.00576873, 0.00430887, 0.00179538, 0.01441796, 0.00315143,\n",
       "       0.0072699 ])"
      ]
     },
     "execution_count": 34,
     "metadata": {},
     "output_type": "execute_result"
    }
   ],
   "source": [
    "#getting list of important features\n",
    "et_reg.feature_importances_"
   ]
  },
  {
   "cell_type": "code",
   "execution_count": 35,
   "metadata": {
    "colab": {
     "base_uri": "https://localhost:8080/",
     "height": 265
    },
    "id": "TG8_d6bQemRl",
    "outputId": "08c4bd44-1e06-4c0d-c6b4-0247451bc679"
   },
   "outputs": [
    {
     "data": {
      "image/png": "[encoded data removed]",
      "text/plain": [
       "<Figure size 432x288 with 1 Axes>"
      ]
     },
     "metadata": {
      "needs_background": "light"
     },
     "output_type": "display_data"
    }
   ],
   "source": [
    "#now,we plot the top 10 most important feature\n",
    "imp_feature=pd.Series(et_reg.feature_importances_,index=x.columns)\n",
    "imp_feature.nlargest(10).plot(kind=\"barh\")\n",
    "plt.show()"
   ]
  },
  {
   "cell_type": "code",
   "execution_count": 36,
   "metadata": {
    "id": "OnbhPbl0fDY2"
   },
   "outputs": [],
   "source": [
    "#here we perform log-transformation to priceUSD and volume as these data contain outlier and is right skew\n",
    "# after performing log-transformation now columns are distributed normally\n",
    "data[\"volume(cm3)\"]=np.log(data[\"volume(cm3)\"])\n",
    "data[\"priceUSD\"]=np.log(data[\"priceUSD\"])"
   ]
  },
  {
   "cell_type": "code",
   "execution_count": 38,
   "metadata": {
    "colab": {
     "base_uri": "https://localhost:8080/",
     "height": 351
    },
    "id": "4PA-viLZwX6z",
    "outputId": "c86b702c-0473-467a-9480-f91dd28d1808"
   },
   "outputs": [
    {
     "data": {
      "text/plain": [
       "(array([5.000e+00, 2.000e+00, 2.400e+01, 1.000e+01, 5.700e+01, 2.700e+01,\n",
       "        1.000e+02, 1.540e+02, 1.510e+02, 2.360e+02, 4.600e+02, 1.960e+02,\n",
       "        5.110e+02, 7.580e+02, 4.430e+02, 8.880e+02, 1.018e+03, 8.860e+02,\n",
       "        1.469e+03, 1.466e+03, 1.086e+03, 1.506e+03, 1.480e+03, 1.826e+03,\n",
       "        2.294e+03, 2.248e+03, 2.011e+03, 2.643e+03, 2.566e+03, 2.512e+03,\n",
       "        2.328e+03, 2.292e+03, 1.887e+03, 1.362e+03, 9.670e+02, 7.080e+02,\n",
       "        4.490e+02, 2.990e+02, 1.740e+02, 1.650e+02, 1.080e+02, 9.200e+01,\n",
       "        5.100e+01, 2.600e+01, 2.700e+01, 9.000e+00, 1.400e+01, 2.000e+00,\n",
       "        3.000e+00, 4.000e+00]),\n",
       " array([ 4.55387689,  4.70641445,  4.85895201,  5.01148957,  5.16402713,\n",
       "         5.31656469,  5.46910225,  5.6216398 ,  5.77417736,  5.92671492,\n",
       "         6.07925248,  6.23179004,  6.3843276 ,  6.53686516,  6.68940272,\n",
       "         6.84194028,  6.99447783,  7.14701539,  7.29955295,  7.45209051,\n",
       "         7.60462807,  7.75716563,  7.90970319,  8.06224075,  8.21477831,\n",
       "         8.36731586,  8.51985342,  8.67239098,  8.82492854,  8.9774661 ,\n",
       "         9.13000366,  9.28254122,  9.43507878,  9.58761634,  9.74015389,\n",
       "         9.89269145, 10.04522901, 10.19776657, 10.35030413, 10.50284169,\n",
       "        10.65537925, 10.80791681, 10.96045437, 11.11299193, 11.26552948,\n",
       "        11.41806704, 11.5706046 , 11.72314216, 11.87567972, 12.02821728,\n",
       "        12.18075484]),\n",
       " <a list of 50 Patch objects>)"
      ]
     },
     "execution_count": 38,
     "metadata": {},
     "output_type": "execute_result"
    },
    {
     "data": {
      "image/png": "[encoded data removed]",
      "text/plain": [
       "<Figure size 720x360 with 2 Axes>"
      ]
     },
     "metadata": {
      "needs_background": "light"
     },
     "output_type": "display_data"
    }
   ],
   "source": [
    "plt.figure(figsize=(10,5))\n",
    "plt.subplot(1,2,1)\n",
    "plt.hist(data[\"volume(cm3)\"],bins=50)\n",
    "plt.subplot(1,2,2)\n",
    "plt.hist(data[\"priceUSD\"],bins=50)"
   ]
  },
  {
   "cell_type": "markdown",
   "metadata": {
    "id": "H0WsnRFMwubm"
   },
   "source": [
    "- we see that now priceUSD and volume are normally distributed."
   ]
  },
  {
   "cell_type": "code",
   "execution_count": 39,
   "metadata": {
    "id": "EJ2U5sa-ft9h"
   },
   "outputs": [],
   "source": [
    "# we now define dependent and independent variable to X and Y\n",
    "X=data.loc[:,['YEAR', 'transmission_mechanics', 'volume(cm3)', 'mileage(kilometers)',\n",
    "       'drive_unit_front-wheel drive', 'drive_unit_rear drive',\n",
    "       'fuel_type_petrol', 'fuel_type_electrocar',\n",
    "       'drive_unit_part-time four-wheel drive', 'color_other']]\n",
    "Y=data.get(\"priceUSD\")"
   ]
  },
  {
   "cell_type": "code",
   "execution_count": 40,
   "metadata": {
    "id": "oDpbv89-BkYB"
   },
   "outputs": [],
   "source": [
    "#spliting data into test and train set\n",
    "from sklearn.model_selection import train_test_split\n",
    "x_train,x_test,y_train,y_test=train_test_split(X,Y,test_size=0.2,shuffle=True,random_state=42)\n"
   ]
  },
  {
   "cell_type": "markdown",
   "metadata": {
    "id": "fEbhEHJHD713"
   },
   "source": [
    "## scaling features"
   ]
  },
  {
   "cell_type": "code",
   "execution_count": 41,
   "metadata": {
    "id": "0RF0s0IkECai"
   },
   "outputs": [],
   "source": [
    "#using standard scaler to standardise values\n",
    "from sklearn.preprocessing import StandardScaler\n",
    "scale=StandardScaler()\n",
    "x_train=scale.fit_transform(x_train)\n",
    "x_test=scale.transform(x_test)"
   ]
  },
  {
   "cell_type": "markdown",
   "metadata": {
    "id": "lVtD71eksvFX"
   },
   "source": [
    "## creating RandomForest model"
   ]
  },
  {
   "cell_type": "code",
   "execution_count": 42,
   "metadata": {
    "colab": {
     "base_uri": "https://localhost:8080/"
    },
    "id": "556FM4_5IbBR",
    "outputId": "680e1f31-9782-493f-9383-e4f2671934c3"
   },
   "outputs": [
    {
     "data": {
      "text/plain": [
       "RandomForestRegressor()"
      ]
     },
     "execution_count": 42,
     "metadata": {},
     "output_type": "execute_result"
    }
   ],
   "source": [
    "#importing randomforestregressor and fit data to it.\n",
    "from sklearn.ensemble import RandomForestRegressor\n",
    "rf_reg=RandomForestRegressor()\n",
    "rf_reg.fit(x_train,y_train)\n",
    "\n",
    "\n"
   ]
  },
  {
   "cell_type": "code",
   "execution_count": 43,
   "metadata": {
    "colab": {
     "base_uri": "https://localhost:8080/"
    },
    "id": "3JbmGGBoSh3W",
    "outputId": "c7a1f7a6-7378-4636-e6aa-5fa6c67011b8"
   },
   "outputs": [
    {
     "data": {
      "text/plain": [
       "0.9613319420627188"
      ]
     },
     "execution_count": 43,
     "metadata": {},
     "output_type": "execute_result"
    }
   ],
   "source": [
    "#now we check how well train and test data are fitted\n",
    "rf_reg.score(x_train,y_train)\n",
    "                     \n",
    "                     "
   ]
  },
  {
   "cell_type": "code",
   "execution_count": 44,
   "metadata": {
    "id": "t74WJz7iVY9H"
   },
   "outputs": [],
   "source": [
    "#now, we predict test data\n",
    "rf_pred=rf_reg.predict(x_test)"
   ]
  },
  {
   "cell_type": "code",
   "execution_count": 45,
   "metadata": {
    "colab": {
     "base_uri": "https://localhost:8080/"
    },
    "id": "pmXpvjg2V8Ww",
    "outputId": "615f858f-905c-4ae1-c068-7a6d11714876"
   },
   "outputs": [
    {
     "data": {
      "text/plain": [
       "0.8194744038958283"
      ]
     },
     "execution_count": 45,
     "metadata": {},
     "output_type": "execute_result"
    }
   ],
   "source": [
    "#here,we check how well test and train set fitted to model.\n",
    "rf_reg.score(x_test,y_test)"
   ]
  },
  {
   "cell_type": "markdown",
   "metadata": {
    "id": "lmC07TWXtWlJ"
   },
   "source": [
    "- we see that the model is highly overfitted.\n",
    "- we now perform hyperparameter tunning to get better results"
   ]
  },
  {
   "cell_type": "markdown",
   "metadata": {
    "id": "CVCCrKEvtnmM"
   },
   "source": [
    "## Hyperparameter Tunning"
   ]
  },
  {
   "cell_type": "code",
   "execution_count": 46,
   "metadata": {
    "id": "qylx0MbcElkT"
   },
   "outputs": [],
   "source": [
    "#import RandomizedSearchCV\n",
    "from sklearn.model_selection import RandomizedSearchCV"
   ]
  },
  {
   "cell_type": "code",
   "execution_count": 47,
   "metadata": {
    "id": "RHZwVshhE5pA"
   },
   "outputs": [],
   "source": [
    "#defining parameters\n",
    "max_depth=[2,4,5,7,8,10]\n",
    "max_features=[\"auto\",\"sqrt\"]\n",
    "max_depth=[int(x) for x in np.linspace(5,30,6)]\n",
    "min_samples_leaf=[1,2,3,4,5]\n",
    "n_estimators=[int(x) for x in np.linspace(100,1200,12)]\n",
    "min_sample_split=[1,2,4,5,10]"
   ]
  },
  {
   "cell_type": "code",
   "execution_count": 48,
   "metadata": {
    "id": "yC790aRKGOZ_"
   },
   "outputs": [],
   "source": [
    "#coverting parameters in form of dict\n",
    "param={\n",
    "    \"max_depth\":max_depth,\n",
    "    \"max_features\":max_features,\n",
    "    \"max_depth\":max_depth,\n",
    "    \"min_samples_leaf\":min_samples_leaf,\n",
    "    \"n_estimators\":n_estimators,\n",
    "    \n",
    "}"
   ]
  },
  {
   "cell_type": "code",
   "execution_count": 49,
   "metadata": {
    "id": "lFVBhFIlGs1R"
   },
   "outputs": [],
   "source": [
    "#Defining RandomizedsearchCV object to perform tunning\n",
    "random_reg=RandomizedSearchCV(rf_reg,param_distributions=param,n_iter=10,scoring=\"neg_mean_squared_error\",cv=5,verbose=1,random_state=42)"
   ]
  },
  {
   "cell_type": "code",
   "execution_count": 50,
   "metadata": {
    "colab": {
     "base_uri": "https://localhost:8080/"
    },
    "id": "m8UuTrOzHIar",
    "outputId": "58bbaa1e-810b-44db-97f1-963e7fd784e9"
   },
   "outputs": [
    {
     "name": "stdout",
     "output_type": "stream",
     "text": [
      "Fitting 5 folds for each of 10 candidates, totalling 50 fits\n"
     ]
    },
    {
     "name": "stderr",
     "output_type": "stream",
     "text": [
      "[Parallel(n_jobs=1)]: Using backend SequentialBackend with 1 concurrent workers.\n",
      "[Parallel(n_jobs=1)]: Done  50 out of  50 | elapsed: 23.8min finished\n"
     ]
    },
    {
     "data": {
      "text/plain": [
       "RandomizedSearchCV(cv=5, estimator=RandomForestRegressor(),\n",
       "                   param_distributions={'max_depth': [5, 10, 15, 20, 25, 30],\n",
       "                                        'max_features': ['auto', 'sqrt'],\n",
       "                                        'min_samples_leaf': [1, 2, 3, 4, 5],\n",
       "                                        'n_estimators': [100, 200, 300, 400,\n",
       "                                                         500, 600, 700, 800,\n",
       "                                                         900, 1000, 1100,\n",
       "                                                         1200]},\n",
       "                   random_state=42, scoring='neg_mean_squared_error',\n",
       "                   verbose=1)"
      ]
     },
     "execution_count": 50,
     "metadata": {},
     "output_type": "execute_result"
    }
   ],
   "source": [
    "#fitting x_train and y_train to Randomizedsearchcv model\n",
    "random_reg.fit(x_train,y_train)"
   ]
  },
  {
   "cell_type": "code",
   "execution_count": 51,
   "metadata": {
    "colab": {
     "base_uri": "https://localhost:8080/"
    },
    "id": "_C44TpQ8Hyz_",
    "outputId": "34b76f79-d44b-4573-d005-02759b97f1cf"
   },
   "outputs": [
    {
     "data": {
      "text/plain": [
       "{'n_estimators': 1000,\n",
       " 'min_samples_leaf': 3,\n",
       " 'max_features': 'sqrt',\n",
       " 'max_depth': 20}"
      ]
     },
     "execution_count": 51,
     "metadata": {},
     "output_type": "execute_result"
    }
   ],
   "source": [
    "#we now call best_params_ to get best parameters\n",
    "random_reg.best_params_"
   ]
  },
  {
   "cell_type": "code",
   "execution_count": 52,
   "metadata": {
    "colab": {
     "base_uri": "https://localhost:8080/"
    },
    "id": "O0vyYQOXIMBJ",
    "outputId": "2118675e-ee8a-4d66-d0ad-e5c76c57380f"
   },
   "outputs": [
    {
     "data": {
      "text/plain": [
       "-0.16223080195612874"
      ]
     },
     "execution_count": 52,
     "metadata": {},
     "output_type": "execute_result"
    }
   ],
   "source": [
    "#here we use best_score_ to get the negative of mean squared error\n",
    "random_reg.best_score_"
   ]
  },
  {
   "cell_type": "code",
   "execution_count": 53,
   "metadata": {
    "colab": {
     "base_uri": "https://localhost:8080/"
    },
    "id": "Vzf2574-ITSY",
    "outputId": "f94cad49-e236-40b4-f9e3-6f240651fa40"
   },
   "outputs": [
    {
     "data": {
      "text/plain": [
       "RandomForestRegressor(max_depth=20, max_features='sqrt', min_samples_leaf=3,\n",
       "                      n_estimators=1000)"
      ]
     },
     "execution_count": 53,
     "metadata": {},
     "output_type": "execute_result"
    }
   ],
   "source": [
    "#here,we csall best_estimator_ to get the best estimator model with parameters\n",
    "# we use this model to get better rsults as describe previously\n",
    "random_reg.best_estimator_"
   ]
  },
  {
   "cell_type": "code",
   "execution_count": 54,
   "metadata": {
    "colab": {
     "base_uri": "https://localhost:8080/"
    },
    "id": "QDCGuPk4PAUs",
    "outputId": "acf2ca45-1f52-44a7-de1a-dfeca81b4d6e"
   },
   "outputs": [
    {
     "data": {
      "text/plain": [
       "RandomForestRegressor(max_depth=20, max_features='sqrt', min_samples_leaf=3,\n",
       "                      n_estimators=1000)"
      ]
     },
     "execution_count": 54,
     "metadata": {},
     "output_type": "execute_result"
    }
   ],
   "source": [
    "#we now use best estimator \n",
    "rf_reg=RandomForestRegressor(bootstrap=True, ccp_alpha=0.0, criterion='mse',\n",
    "                      max_depth=20, max_features='sqrt', max_leaf_nodes=None,\n",
    "                      max_samples=None, min_impurity_decrease=0.0,\n",
    "                      min_impurity_split=None, min_samples_leaf=3,\n",
    "                      min_samples_split=2, min_weight_fraction_leaf=0.0,\n",
    "                      n_estimators=1000, n_jobs=None, oob_score=False,\n",
    "                      random_state=None, verbose=0, warm_start=False)\n",
    "#fitting best estimator\n",
    "rf_reg.fit(x_train,y_train)"
   ]
  },
  {
   "cell_type": "code",
   "execution_count": 55,
   "metadata": {
    "colab": {
     "base_uri": "https://localhost:8080/"
    },
    "id": "1dArr5PtPOV9",
    "outputId": "38ab87e3-ac6d-4ef2-eed2-78c772ae35be"
   },
   "outputs": [
    {
     "data": {
      "text/plain": [
       "0.8970066949350776"
      ]
     },
     "execution_count": 55,
     "metadata": {},
     "output_type": "execute_result"
    }
   ],
   "source": [
    "#this shows the r^2 score \n",
    "#how good x_train and y_train is fitted to best estimator model\n",
    "rf_reg.score(x_train,y_train)"
   ]
  },
  {
   "cell_type": "code",
   "execution_count": 56,
   "metadata": {
    "colab": {
     "base_uri": "https://localhost:8080/"
    },
    "id": "yqsl7uvJPWPH",
    "outputId": "529e5394-e955-4f97-8984-16f99ee9b515"
   },
   "outputs": [
    {
     "data": {
      "text/plain": [
       "0.8505434154878326"
      ]
     },
     "execution_count": 56,
     "metadata": {},
     "output_type": "execute_result"
    }
   ],
   "source": [
    "#best fitted score of x_test and y_test\n",
    "rf_reg.score(x_test,y_test)"
   ]
  },
  {
   "cell_type": "markdown",
   "metadata": {
    "id": "UKLyg0G_vWLv"
   },
   "source": [
    "- from above r^2 score values we can conclude that now overfitting is reduces"
   ]
  },
  {
   "cell_type": "code",
   "execution_count": 57,
   "metadata": {
    "id": "IemdBcMUPa14"
   },
   "outputs": [],
   "source": [
    "#prediction from best estimator model\n",
    "y_pred=rf_reg.predict(x_test)"
   ]
  },
  {
   "cell_type": "code",
   "execution_count": 58,
   "metadata": {
    "colab": {
     "base_uri": "https://localhost:8080/"
    },
    "id": "CMS9pKH_Sd1l",
    "outputId": "d1ff4f16-0143-4922-a96f-fedba2fe1e7a"
   },
   "outputs": [
    {
     "name": "stdout",
     "output_type": "stream",
     "text": [
      "0.16139602150900903\n"
     ]
    }
   ],
   "source": [
    "#now , se mean_squared_error of best estimator \n",
    "from sklearn.metrics import mean_squared_error\n",
    "print(mean_squared_error(y_pred,y_test))"
   ]
  },
  {
   "cell_type": "code",
   "execution_count": 59,
   "metadata": {
    "colab": {
     "base_uri": "https://localhost:8080/",
     "height": 384
    },
    "id": "cq021dWlSn6Y",
    "outputId": "64718141-4f47-4294-8aaa-acbbecb0c1b3"
   },
   "outputs": [
    {
     "data": {
      "text/plain": [
       "<matplotlib.legend.Legend at 0x14f813bec10>"
      ]
     },
     "execution_count": 59,
     "metadata": {},
     "output_type": "execute_result"
    },
    {
     "data": {
      "image/png": "[encoded data removed]",
      "text/plain": [
       "<Figure size 432x288 with 1 Axes>"
      ]
     },
     "metadata": {
      "needs_background": "light"
     },
     "output_type": "display_data"
    }
   ],
   "source": [
    "#here, we plot dist plot to get insight of how good is prediction\n",
    "ax=sns.distplot(y_pred,hist=False,label=\"y_pred\")\n",
    "sns.distplot(y_test,hist=False,ax=ax,label=\"y_test\")\n",
    "plt.legend()"
   ]
  },
  {
   "cell_type": "code",
   "execution_count": 60,
   "metadata": {
    "id": "wZljNUtZcoNq"
   },
   "outputs": [],
   "source": [
    "#here we import pickle and save our model\n",
    "#import pickle\n",
    "#file=open(\"car_price_prediction.pkl\",\"wb\")\n",
    "#pickle.dump(rf_reg,file)"
   ]
  },
  {
   "cell_type": "code",
   "execution_count": null,
   "metadata": {
    "id": "oiPyb4nFcvjT"
   },
   "outputs": [],
   "source": []
  }
 ],
 "metadata": {
  "colab": {
   "collapsed_sections": [],
   "name": "car_price_pred.ipynb",
   "provenance": []
  },
  "kernelspec": {
   "display_name": "Python 3",
   "language": "python",
   "name": "python3"
  },
  "language_info": {
   "codemirror_mode": {
    "name": "ipython",
    "version": 3
   },
   "file_extension": ".py",
   "mimetype": "text/x-python",
   "name": "python",
   "nbconvert_exporter": "python",
   "pygments_lexer": "ipython3",
   "version": "3.8.3"
  }
 },
 "nbformat": 4,
 "nbformat_minor": 1
}
